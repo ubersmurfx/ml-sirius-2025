{
 "cells": [
  {
   "cell_type": "markdown",
   "metadata": {},
   "source": [
    "# Семинар 1: знакомство с NumPy\n"
   ]
  },
  {
   "cell_type": "markdown",
   "metadata": {},
   "source": [
    "## Немного про Jupyter notebook"
   ]
  },
  {
   "cell_type": "markdown",
   "metadata": {},
   "source": [
    "Полная документация: https://devpractice.ru/python-lesson-6-work-in-jupyter-notebook/\n",
    "\n",
    "---\n",
    "В Jupyter Notebook есть два режима работы: режим _команд_ и режим _редактирования_\n",
    "\n",
    "_Командный_ режим нужен для того, чтобы взаимодействовать и управлять ячейками (добавлять, удалять, запускать, копировать, ...)\n",
    "\n",
    "В режиме _редактирования_ вы меняете содержимое ячейки. \n",
    "\n",
    "Ячейки бывают двух основных типов, _код_ и _разметка_\n",
    "\n",
    "### Полезные команды\n",
    "\n",
    "(находясь в командном режиме)\n",
    "\n",
    "- `a` - добавить пустую ячейку сверху\n",
    "\n",
    "- `b` - добавить пустую ячейку снизу\n",
    "- `c` - скопировать текущую ячейку\n",
    "- `v` - вставить скопированную ячейку\n",
    "- `d` - удалить текущую ячейку\n",
    "- `x` - вырезать (удалить и скопировать) текущую ячейку\n",
    "- `m` - изменить тип выбранной ячейки на \"разметка\" \n",
    "- `y` - изменить тип выбранной ячейки на \"код\" \n",
    "- `z` - отменить последнее действие\n",
    "\n",
    "\n",
    "- `Enter` - начать редактировать выбранную ячейку\n",
    "\n",
    "(будучи в режим редактирования ячейки)\n",
    "- `esc` - вернуться в командный режим\n",
    "\n",
    "(будучи в любом режиме)\n",
    "\n",
    "- `Ctrl + Enter` - запустить выбранную ячейку\n",
    "- `Shift + Enter` - запустить выбранную ячейку и выбрать следующую"
   ]
  },
  {
   "cell_type": "code",
   "execution_count": 6,
   "metadata": {},
   "outputs": [
    {
     "data": {
      "text/plain": [
       "4"
      ]
     },
     "execution_count": 6,
     "metadata": {},
     "output_type": "execute_result"
    }
   ],
   "source": [
    "2 + 2"
   ]
  },
  {
   "cell_type": "markdown",
   "metadata": {},
   "source": [
    "## NumPy\n",
    "\n",
    "**NumPy** — библиотека языка Python, позволяющая (удобно) работать с многомерными массивами и матрицами. Кроме того, NumPy позволяет векторизовать многие вычисления, имеющие место в машинном обучении.\n",
    "\n",
    " - [numpy](http://www.numpy.org)\n",
    " - [numpy tutorial](http://cs231n.github.io/python-numpy-tutorial/)\n",
    " - [100 numpy exercises](http://www.labri.fr/perso/nrougier/teaching/numpy.100/)\n",
    " \n",
    "Кстати, про  `NumPy` недавно вышла [публикация](https://www.nature.com/articles/s41586-020-2649-2) в Nature."
   ]
  },
  {
   "cell_type": "markdown",
   "metadata": {},
   "source": [
    "Библиотека numpy является удобным инструментом для работы с многомерными массивами с возможностью векторизации вычислений. Рассмотрим базовые вещи, которые можно делать с помощью нее."
   ]
  },
  {
   "cell_type": "code",
   "execution_count": 7,
   "metadata": {
    "ExecuteTime": {
     "end_time": "2020-09-22T15:42:51.828215Z",
     "start_time": "2020-09-22T15:42:51.698487Z"
    }
   },
   "outputs": [],
   "source": [
    "import numpy as np\n",
    "import warnings\n",
    "warnings.filterwarnings('ignore')"
   ]
  },
  {
   "cell_type": "markdown",
   "metadata": {},
   "source": [
    "Основным типом данных NumPy является многомерный массив элементов одного типа — [numpy.ndarray](http://docs.scipy.org/doc/numpy-1.10.0/reference/generated/numpy.array.html). Каждый подобный массив имеет несколько *измерений* или *осей* — в частности, вектор (в классическом понимании) является одномерным массивом и имеет 1 ось, матрица является двумерным массивом и имеет 2 оси и т.д."
   ]
  },
  {
   "cell_type": "code",
   "execution_count": null,
   "metadata": {
    "ExecuteTime": {
     "end_time": "2020-09-22T15:42:51.842022Z",
     "start_time": "2020-09-22T15:42:51.830534Z"
    }
   },
   "outputs": [
    {
     "ename": "",
     "evalue": "",
     "output_type": "error",
     "traceback": [
      "\u001b[1;31mRunning cells with 'Python 3.12.3' requires the ipykernel package.\n",
      "\u001b[1;31mRun the following command to install 'ipykernel' into the Python environment. \n",
      "\u001b[1;31mCommand: '/usr/bin/python3 -m pip install ipykernel -U --user --force-reinstall'"
     ]
    }
   ],
   "source": [
    "vec = np.array([1, 2, 3])\n",
    "vec.ndim # количество осей"
   ]
  },
  {
   "cell_type": "code",
   "execution_count": 9,
   "metadata": {
    "ExecuteTime": {
     "end_time": "2020-09-22T15:42:51.848899Z",
     "start_time": "2020-09-22T15:42:51.844661Z"
    }
   },
   "outputs": [
    {
     "data": {
      "text/plain": [
       "2"
      ]
     },
     "execution_count": 9,
     "metadata": {},
     "output_type": "execute_result"
    }
   ],
   "source": [
    "mat = np.array([[1, 2, 3], [4, 5, 6]])\n",
    "mat.ndim"
   ]
  },
  {
   "cell_type": "markdown",
   "metadata": {},
   "source": [
    "Чтобы узнать длину массива по каждой из осей, можно воспользоваться атрибутом shape:"
   ]
  },
  {
   "cell_type": "code",
   "execution_count": 10,
   "metadata": {
    "ExecuteTime": {
     "end_time": "2020-09-22T15:42:51.854991Z",
     "start_time": "2020-09-22T15:42:51.851142Z"
    },
    "scrolled": true
   },
   "outputs": [
    {
     "data": {
      "text/plain": [
       "(3,)"
      ]
     },
     "execution_count": 10,
     "metadata": {},
     "output_type": "execute_result"
    }
   ],
   "source": [
    "vec.shape"
   ]
  },
  {
   "cell_type": "markdown",
   "metadata": {},
   "source": [
    "Чтобы узнать тип элементов и их размер в байтах:"
   ]
  },
  {
   "cell_type": "code",
   "execution_count": 11,
   "metadata": {
    "ExecuteTime": {
     "end_time": "2020-09-22T15:42:51.865162Z",
     "start_time": "2020-09-22T15:42:51.857049Z"
    }
   },
   "outputs": [
    {
     "data": {
      "text/plain": [
       "'int64'"
      ]
     },
     "execution_count": 11,
     "metadata": {},
     "output_type": "execute_result"
    }
   ],
   "source": [
    "mat.dtype.name"
   ]
  },
  {
   "cell_type": "code",
   "execution_count": 12,
   "metadata": {
    "ExecuteTime": {
     "end_time": "2020-09-22T15:42:51.871563Z",
     "start_time": "2020-09-22T15:42:51.867576Z"
    },
    "scrolled": true
   },
   "outputs": [
    {
     "data": {
      "text/plain": [
       "8"
      ]
     },
     "execution_count": 12,
     "metadata": {},
     "output_type": "execute_result"
    }
   ],
   "source": [
    "mat.itemsize"
   ]
  },
  {
   "cell_type": "markdown",
   "metadata": {},
   "source": [
    "#### Создание массивов\n",
    "\n",
    "Есть несколько способов сформировать массив в NumPy:\n",
    "\n",
    "* Передать итерируемый объект в качестве параметра функции array (можно также явно указать тип элементов):"
   ]
  },
  {
   "cell_type": "code",
   "execution_count": 13,
   "metadata": {
    "ExecuteTime": {
     "end_time": "2020-09-22T15:42:51.878946Z",
     "start_time": "2020-09-22T15:42:51.874042Z"
    }
   },
   "outputs": [
    {
     "data": {
      "text/plain": [
       "(array([1, 2, 3]), dtype('int64'))"
      ]
     },
     "execution_count": 13,
     "metadata": {},
     "output_type": "execute_result"
    }
   ],
   "source": [
    "A = np.array([1, 2, 3])\n",
    "A, A.dtype"
   ]
  },
  {
   "cell_type": "code",
   "execution_count": 14,
   "metadata": {
    "ExecuteTime": {
     "end_time": "2020-09-22T15:42:51.887234Z",
     "start_time": "2020-09-22T15:42:51.882620Z"
    }
   },
   "outputs": [
    {
     "data": {
      "text/plain": [
       "(array([1., 2., 3.]), dtype('float64'))"
      ]
     },
     "execution_count": 14,
     "metadata": {},
     "output_type": "execute_result"
    }
   ],
   "source": [
    "A = np.array([1, 2, 3], dtype=float)\n",
    "A, A.dtype"
   ]
  },
  {
   "cell_type": "markdown",
   "metadata": {},
   "source": [
    "* Воспользоваться функциями zeros, ones, empty, identity, если вам нужен объект специального вида:"
   ]
  },
  {
   "cell_type": "code",
   "execution_count": 15,
   "metadata": {
    "ExecuteTime": {
     "end_time": "2020-09-22T15:42:51.893393Z",
     "start_time": "2020-09-22T15:42:51.889888Z"
    }
   },
   "outputs": [
    {
     "data": {
      "text/plain": [
       "array([0., 0., 0.])"
      ]
     },
     "execution_count": 15,
     "metadata": {},
     "output_type": "execute_result"
    }
   ],
   "source": [
    "np.zeros((3,))"
   ]
  },
  {
   "cell_type": "code",
   "execution_count": 16,
   "metadata": {
    "ExecuteTime": {
     "end_time": "2020-09-22T15:42:51.898550Z",
     "start_time": "2020-09-22T15:42:51.894863Z"
    }
   },
   "outputs": [
    {
     "data": {
      "text/plain": [
       "array([[1., 1., 1., 1.],\n",
       "       [1., 1., 1., 1.],\n",
       "       [1., 1., 1., 1.]])"
      ]
     },
     "execution_count": 16,
     "metadata": {},
     "output_type": "execute_result"
    }
   ],
   "source": [
    "np.ones((3, 4))"
   ]
  },
  {
   "cell_type": "code",
   "execution_count": 17,
   "metadata": {
    "ExecuteTime": {
     "end_time": "2020-09-22T15:42:51.903530Z",
     "start_time": "2020-09-22T15:42:51.900141Z"
    }
   },
   "outputs": [
    {
     "data": {
      "text/plain": [
       "array([[1., 0., 0.],\n",
       "       [0., 1., 0.],\n",
       "       [0., 0., 1.]])"
      ]
     },
     "execution_count": 17,
     "metadata": {},
     "output_type": "execute_result"
    }
   ],
   "source": [
    "np.identity(3)"
   ]
  },
  {
   "cell_type": "markdown",
   "metadata": {},
   "source": [
    "* Воспользоваться функциями arange (в качестве параметров принимает левую и правую границы последовательности и **шаг**) и linspace (принимает левую и правую границы и **количество элементов**) для формирования последовательностей:"
   ]
  },
  {
   "cell_type": "code",
   "execution_count": 18,
   "metadata": {
    "ExecuteTime": {
     "end_time": "2020-09-22T15:42:51.908583Z",
     "start_time": "2020-09-22T15:42:51.905271Z"
    }
   },
   "outputs": [
    {
     "data": {
      "text/plain": [
       "array([ 2,  5,  8, 11, 14, 17])"
      ]
     },
     "execution_count": 18,
     "metadata": {},
     "output_type": "execute_result"
    }
   ],
   "source": [
    "np.arange(2, 20, 3) # аналогично стандартной функции range python, правая граница не включается"
   ]
  },
  {
   "cell_type": "code",
   "execution_count": 19,
   "metadata": {
    "ExecuteTime": {
     "end_time": "2020-09-22T15:42:51.913731Z",
     "start_time": "2020-09-22T15:42:51.910114Z"
    }
   },
   "outputs": [
    {
     "data": {
      "text/plain": [
       "array([2.5, 3.4, 4.3, 5.2, 6.1, 7. , 7.9])"
      ]
     },
     "execution_count": 19,
     "metadata": {},
     "output_type": "execute_result"
    }
   ],
   "source": [
    "np.arange(2.5, 8.7, 0.9) # но может работать и с вещественными числами"
   ]
  },
  {
   "cell_type": "code",
   "execution_count": 20,
   "metadata": {
    "ExecuteTime": {
     "end_time": "2020-09-22T15:42:51.918947Z",
     "start_time": "2020-09-22T15:42:51.915578Z"
    }
   },
   "outputs": [
    {
     "data": {
      "text/plain": [
       "array([ 2.        ,  3.23076923,  4.46153846,  5.69230769,  6.92307692,\n",
       "        8.15384615,  9.38461538, 10.61538462, 11.84615385, 13.07692308,\n",
       "       14.30769231, 15.53846154, 16.76923077, 18.        ])"
      ]
     },
     "execution_count": 20,
     "metadata": {},
     "output_type": "execute_result"
    }
   ],
   "source": [
    "np.linspace(2, 18, 14) # правая граница включается (по умолчанию)"
   ]
  },
  {
   "cell_type": "markdown",
   "metadata": {},
   "source": [
    "* Изменить размеры существующего массива с помощью reshape (при этом количество элементов должно оставаться неизменным):"
   ]
  },
  {
   "cell_type": "code",
   "execution_count": 21,
   "metadata": {
    "ExecuteTime": {
     "end_time": "2020-09-22T15:42:51.923959Z",
     "start_time": "2020-09-22T15:42:51.920505Z"
    }
   },
   "outputs": [
    {
     "data": {
      "text/plain": [
       "array([[0, 1, 2],\n",
       "       [3, 4, 5],\n",
       "       [6, 7, 8]])"
      ]
     },
     "execution_count": 21,
     "metadata": {},
     "output_type": "execute_result"
    }
   ],
   "source": [
    "np.arange(9).reshape(3, 3)"
   ]
  },
  {
   "cell_type": "markdown",
   "metadata": {},
   "source": [
    "Вместо значения длины массива по одному из измерений можно указать -1 — в этом случае значение будет рассчитано автоматически:"
   ]
  },
  {
   "cell_type": "code",
   "execution_count": 22,
   "metadata": {
    "ExecuteTime": {
     "end_time": "2020-09-22T15:42:51.929133Z",
     "start_time": "2020-09-22T15:42:51.925453Z"
    }
   },
   "outputs": [
    {
     "data": {
      "text/plain": [
       "array([[0, 1, 2, 3],\n",
       "       [4, 5, 6, 7]])"
      ]
     },
     "execution_count": 22,
     "metadata": {},
     "output_type": "execute_result"
    }
   ],
   "source": [
    "np.arange(8).reshape(2, -1)"
   ]
  },
  {
   "cell_type": "markdown",
   "metadata": {},
   "source": [
    "* Транспонировать существующий массив:"
   ]
  },
  {
   "cell_type": "code",
   "execution_count": 23,
   "metadata": {
    "ExecuteTime": {
     "end_time": "2020-09-22T15:42:51.933803Z",
     "start_time": "2020-09-22T15:42:51.930599Z"
    }
   },
   "outputs": [
    {
     "data": {
      "text/plain": [
       "array([[0, 1, 2],\n",
       "       [3, 4, 5]])"
      ]
     },
     "execution_count": 23,
     "metadata": {},
     "output_type": "execute_result"
    }
   ],
   "source": [
    "C = np.arange(6).reshape(2, -1)\n",
    "C"
   ]
  },
  {
   "cell_type": "code",
   "execution_count": 24,
   "metadata": {
    "ExecuteTime": {
     "end_time": "2020-09-22T15:42:51.938143Z",
     "start_time": "2020-09-22T15:42:51.935159Z"
    }
   },
   "outputs": [
    {
     "data": {
      "text/plain": [
       "array([[0, 3],\n",
       "       [1, 4],\n",
       "       [2, 5]])"
      ]
     },
     "execution_count": 24,
     "metadata": {},
     "output_type": "execute_result"
    }
   ],
   "source": [
    "C.T"
   ]
  },
  {
   "cell_type": "markdown",
   "metadata": {},
   "source": [
    "**Повторить существующий массив:**\n",
    "- Первое число (2) → дублируем массив по вертикали (по строкам) 2 раза\n",
    "- Второе число (2) → дублируем массив по горизонтали (по столбцам) 2 раза"
   ]
  },
  {
   "cell_type": "code",
   "execution_count": 25,
   "metadata": {
    "ExecuteTime": {
     "end_time": "2020-09-22T15:42:51.943090Z",
     "start_time": "2020-09-22T15:42:51.939583Z"
    }
   },
   "outputs": [
    {
     "data": {
      "text/plain": [
       "array([[0, 1, 2, 0, 1, 2],\n",
       "       [0, 1, 2, 0, 1, 2]])"
      ]
     },
     "execution_count": 25,
     "metadata": {},
     "output_type": "execute_result"
    }
   ],
   "source": [
    "a = np.arange(3)\n",
    "np.tile(a, (2, 2))"
   ]
  },
  {
   "cell_type": "code",
   "execution_count": 26,
   "metadata": {
    "ExecuteTime": {
     "end_time": "2020-09-22T15:42:51.947733Z",
     "start_time": "2020-09-22T15:42:51.944564Z"
    }
   },
   "outputs": [
    {
     "data": {
      "text/plain": [
       "array([[0, 1, 2],\n",
       "       [0, 1, 2],\n",
       "       [0, 1, 2],\n",
       "       [0, 1, 2]])"
      ]
     },
     "execution_count": 26,
     "metadata": {},
     "output_type": "execute_result"
    }
   ],
   "source": [
    "np.tile(a, (4, 1))"
   ]
  },
  {
   "cell_type": "markdown",
   "metadata": {},
   "source": [
    "#### Базовые операции\n",
    "\n",
    "* Базовые арифметические операции над массивами выполняются поэлементно:"
   ]
  },
  {
   "cell_type": "code",
   "execution_count": 27,
   "metadata": {
    "ExecuteTime": {
     "end_time": "2020-09-22T15:42:51.951681Z",
     "start_time": "2020-09-22T15:42:51.949257Z"
    }
   },
   "outputs": [],
   "source": [
    "A = np.arange(9).reshape(3, 3)\n",
    "B = np.arange(1, 10).reshape(3, 3)"
   ]
  },
  {
   "cell_type": "code",
   "execution_count": 28,
   "metadata": {
    "ExecuteTime": {
     "end_time": "2020-09-22T15:42:51.957595Z",
     "start_time": "2020-09-22T15:42:51.954043Z"
    }
   },
   "outputs": [
    {
     "name": "stdout",
     "output_type": "stream",
     "text": [
      "[[0 1 2]\n",
      " [3 4 5]\n",
      " [6 7 8]]\n",
      "[[1 2 3]\n",
      " [4 5 6]\n",
      " [7 8 9]]\n"
     ]
    }
   ],
   "source": [
    "print(A)\n",
    "print(B)"
   ]
  },
  {
   "cell_type": "code",
   "execution_count": 29,
   "metadata": {
    "ExecuteTime": {
     "end_time": "2020-09-22T15:42:51.964000Z",
     "start_time": "2020-09-22T15:42:51.960861Z"
    }
   },
   "outputs": [
    {
     "data": {
      "text/plain": [
       "array([[ 1,  3,  5],\n",
       "       [ 7,  9, 11],\n",
       "       [13, 15, 17]])"
      ]
     },
     "execution_count": 29,
     "metadata": {},
     "output_type": "execute_result"
    }
   ],
   "source": [
    "A + B"
   ]
  },
  {
   "cell_type": "code",
   "execution_count": 30,
   "metadata": {
    "ExecuteTime": {
     "end_time": "2020-09-22T15:42:51.969202Z",
     "start_time": "2020-09-22T15:42:51.966077Z"
    }
   },
   "outputs": [
    {
     "data": {
      "text/plain": [
       "array([[0.        , 0.5       , 0.66666667],\n",
       "       [0.75      , 0.8       , 0.83333333],\n",
       "       [0.85714286, 0.875     , 0.88888889]])"
      ]
     },
     "execution_count": 30,
     "metadata": {},
     "output_type": "execute_result"
    }
   ],
   "source": [
    "A * 1.0 / B"
   ]
  },
  {
   "cell_type": "code",
   "execution_count": 31,
   "metadata": {
    "ExecuteTime": {
     "end_time": "2020-09-22T15:42:51.974197Z",
     "start_time": "2020-09-22T15:42:51.970594Z"
    }
   },
   "outputs": [
    {
     "data": {
      "text/plain": [
       "array([[1, 2, 3],\n",
       "       [4, 5, 6],\n",
       "       [7, 8, 9]])"
      ]
     },
     "execution_count": 31,
     "metadata": {},
     "output_type": "execute_result"
    }
   ],
   "source": [
    "A + 1"
   ]
  },
  {
   "cell_type": "code",
   "execution_count": 32,
   "metadata": {
    "ExecuteTime": {
     "end_time": "2020-09-22T15:42:51.978713Z",
     "start_time": "2020-09-22T15:42:51.975679Z"
    }
   },
   "outputs": [
    {
     "data": {
      "text/plain": [
       "array([[ 0,  3,  6],\n",
       "       [ 9, 12, 15],\n",
       "       [18, 21, 24]])"
      ]
     },
     "execution_count": 32,
     "metadata": {},
     "output_type": "execute_result"
    }
   ],
   "source": [
    "3 * A"
   ]
  },
  {
   "cell_type": "code",
   "execution_count": 33,
   "metadata": {
    "ExecuteTime": {
     "end_time": "2020-09-22T15:42:51.983697Z",
     "start_time": "2020-09-22T15:42:51.980254Z"
    }
   },
   "outputs": [
    {
     "data": {
      "text/plain": [
       "array([[ 0,  1,  4],\n",
       "       [ 9, 16, 25],\n",
       "       [36, 49, 64]])"
      ]
     },
     "execution_count": 33,
     "metadata": {},
     "output_type": "execute_result"
    }
   ],
   "source": [
    "A ** 2"
   ]
  },
  {
   "cell_type": "markdown",
   "metadata": {},
   "source": [
    "Отдельно обратим внимание на то, что умножение массивов также является **поэлементным**, а не матричным:"
   ]
  },
  {
   "cell_type": "code",
   "execution_count": 34,
   "metadata": {
    "ExecuteTime": {
     "end_time": "2020-09-22T15:42:51.990640Z",
     "start_time": "2020-09-22T15:42:51.985073Z"
    }
   },
   "outputs": [
    {
     "data": {
      "text/plain": [
       "array([[ 0,  2,  6],\n",
       "       [12, 20, 30],\n",
       "       [42, 56, 72]])"
      ]
     },
     "execution_count": 34,
     "metadata": {},
     "output_type": "execute_result"
    }
   ],
   "source": [
    "A * B"
   ]
  },
  {
   "cell_type": "markdown",
   "metadata": {},
   "source": [
    "Для выполнения матричного умножения необходимо использовать функцию dot:"
   ]
  },
  {
   "cell_type": "code",
   "execution_count": 35,
   "metadata": {
    "ExecuteTime": {
     "end_time": "2020-09-22T15:42:51.995038Z",
     "start_time": "2020-09-22T15:42:51.991988Z"
    }
   },
   "outputs": [
    {
     "data": {
      "text/plain": [
       "array([[ 18,  21,  24],\n",
       "       [ 54,  66,  78],\n",
       "       [ 90, 111, 132]])"
      ]
     },
     "execution_count": 35,
     "metadata": {},
     "output_type": "execute_result"
    }
   ],
   "source": [
    "A.dot(B)"
   ]
  },
  {
   "cell_type": "markdown",
   "metadata": {},
   "source": [
    "Для умножения векторов или матриц можно также использовать оператор `@`:"
   ]
  },
  {
   "cell_type": "code",
   "execution_count": 36,
   "metadata": {
    "ExecuteTime": {
     "end_time": "2020-09-22T15:42:51.999446Z",
     "start_time": "2020-09-22T15:42:51.996579Z"
    }
   },
   "outputs": [
    {
     "data": {
      "text/plain": [
       "array([[ 18,  21,  24],\n",
       "       [ 54,  66,  78],\n",
       "       [ 90, 111, 132]])"
      ]
     },
     "execution_count": 36,
     "metadata": {},
     "output_type": "execute_result"
    }
   ],
   "source": [
    "A @ B"
   ]
  },
  {
   "cell_type": "code",
   "execution_count": 37,
   "metadata": {
    "ExecuteTime": {
     "end_time": "2020-09-22T15:42:52.004093Z",
     "start_time": "2020-09-22T15:42:52.000788Z"
    }
   },
   "outputs": [
    {
     "data": {
      "text/plain": [
       "10"
      ]
     },
     "execution_count": 37,
     "metadata": {},
     "output_type": "execute_result"
    }
   ],
   "source": [
    "np.array([1, 2, 3, 4]) @ np.array([1, 1, 1, 1])"
   ]
  },
  {
   "cell_type": "markdown",
   "metadata": {},
   "source": [
    "Поскольку операции выполняются поэлементно, операнды бинарных операций должны иметь одинаковый размер. Тем не менее, операция может быть корректно выполнена, если размеры операндов таковы, что они могут быть расширены до одинаковых размеров. Данная возможность называется [broadcasting](http://www.scipy-lectures.org/intro/numpy/operations.html#broadcasting):\n",
    "![](https://jakevdp.github.io/PythonDataScienceHandbook/figures/02.05-broadcasting.png)"
   ]
  },
  {
   "cell_type": "code",
   "execution_count": 39,
   "metadata": {
    "ExecuteTime": {
     "end_time": "2020-09-22T15:42:52.023902Z",
     "start_time": "2020-09-22T15:42:52.020457Z"
    }
   },
   "outputs": [
    {
     "data": {
      "text/plain": [
       "array([[0, 1, 2],\n",
       "       [3, 4, 5],\n",
       "       [6, 7, 8]])"
      ]
     },
     "execution_count": 39,
     "metadata": {},
     "output_type": "execute_result"
    }
   ],
   "source": [
    "A"
   ]
  },
  {
   "cell_type": "code",
   "execution_count": 38,
   "metadata": {
    "ExecuteTime": {
     "end_time": "2020-09-22T15:42:52.011906Z",
     "start_time": "2020-09-22T15:42:52.005614Z"
    }
   },
   "outputs": [
    {
     "data": {
      "text/plain": [
       "array([[ 0,  1,  2],\n",
       "       [10, 11, 12],\n",
       "       [20, 21, 22],\n",
       "       [30, 31, 32]])"
      ]
     },
     "execution_count": 38,
     "metadata": {},
     "output_type": "execute_result"
    }
   ],
   "source": [
    "np.tile(np.arange(0, 40, 10), (3, 1)).T + np.array([0, 1, 2])"
   ]
  },
  {
   "cell_type": "markdown",
   "metadata": {},
   "source": [
    "В задачах, например, в обработке изображений, часто приходится работать с изображениями (массивами), где требуется применить некоторую операцию ко всем пикселям. Broadcast позволяет делать это быстрее, чем если бы вы использовали циклы для каждого пикселя.\n",
    "\n",
    "\n",
    "Пример: Предположим, у вас есть изображение, и вы хотите увеличить яркость на постоянное значение для всех пикселей:"
   ]
  },
  {
   "cell_type": "code",
   "execution_count": 3,
   "metadata": {},
   "outputs": [
    {
     "name": "stdout",
     "output_type": "stream",
     "text": [
      "[[110 170 230]\n",
      " [ 60  80 100]]\n"
     ]
    }
   ],
   "source": [
    "import numpy as np\n",
    "\n",
    "image = np.array([[100, 150, 200], [50, 60, 70]])\n",
    "brightness_increase = np.array([10, 20, 30])\n",
    "\n",
    "new_image = image + brightness_increase  # Broadcasting\n",
    "print(new_image)  #  Массив brightness_increase растягивается вдоль строк изображения, и прибавляется к каждому пикселю."
   ]
  },
  {
   "cell_type": "markdown",
   "metadata": {},
   "source": [
    "* Некоторые операции над массивами (например, вычисления минимума, максимума, суммы элементов) выполняются над всеми элементами вне зависимости от формы массива, однако при указании оси выполняются вдоль нее (например, для нахождения максимума каждой строки или каждого столбца):"
   ]
  },
  {
   "cell_type": "code",
   "execution_count": null,
   "metadata": {
    "ExecuteTime": {
     "end_time": "2020-09-22T15:42:52.028517Z",
     "start_time": "2020-09-22T15:42:52.025419Z"
    }
   },
   "outputs": [
    {
     "ename": "",
     "evalue": "",
     "output_type": "error",
     "traceback": [
      "\u001b[1;31mRunning cells with 'Python 3.12.3' requires the ipykernel package.\n",
      "\u001b[1;31mRun the following command to install 'ipykernel' into the Python environment. \n",
      "\u001b[1;31mCommand: '/usr/bin/python3 -m pip install ipykernel -U --user --force-reinstall'"
     ]
    }
   ],
   "source": [
    "A.min()"
   ]
  },
  {
   "cell_type": "code",
   "execution_count": 41,
   "metadata": {
    "ExecuteTime": {
     "end_time": "2020-09-22T15:42:52.033907Z",
     "start_time": "2020-09-22T15:42:52.030567Z"
    }
   },
   "outputs": [
    {
     "data": {
      "text/plain": [
       "array([2, 5, 8])"
      ]
     },
     "execution_count": 41,
     "metadata": {},
     "output_type": "execute_result"
    }
   ],
   "source": [
    "A.max(axis=1)"
   ]
  },
  {
   "cell_type": "code",
   "execution_count": 42,
   "metadata": {
    "ExecuteTime": {
     "end_time": "2020-09-22T15:42:52.047824Z",
     "start_time": "2020-09-22T15:42:52.035571Z"
    }
   },
   "outputs": [
    {
     "data": {
      "text/plain": [
       "array([ 3, 12, 21])"
      ]
     },
     "execution_count": 42,
     "metadata": {},
     "output_type": "execute_result"
    }
   ],
   "source": [
    "A.sum(axis=1)"
   ]
  },
  {
   "cell_type": "markdown",
   "metadata": {},
   "source": [
    "#### Индексация\n",
    "\n",
    "Для доступа к элементам может использоваться [много различных способов](http://docs.scipy.org/doc/numpy/reference/arrays.indexing.html), рассмотрим основные.\n",
    "\n",
    "* Для индексации могут использоваться конкретные значения индексов и срезы (slice), как и в стандартных типах Python. Для многомерных массивов индексы для различных осей разделяются запятой. Если для многомерного массива указаны индексы не для всех измерений, недостающие заполняются полным срезом (:)."
   ]
  },
  {
   "cell_type": "code",
   "execution_count": 43,
   "metadata": {
    "ExecuteTime": {
     "end_time": "2020-09-22T15:42:52.053659Z",
     "start_time": "2020-09-22T15:42:52.049560Z"
    }
   },
   "outputs": [
    {
     "data": {
      "text/plain": [
       "array([0, 1, 2, 3, 4, 5, 6, 7, 8, 9])"
      ]
     },
     "execution_count": 43,
     "metadata": {},
     "output_type": "execute_result"
    }
   ],
   "source": [
    "a = np.arange(10)\n",
    "a"
   ]
  },
  {
   "cell_type": "code",
   "execution_count": 44,
   "metadata": {
    "ExecuteTime": {
     "end_time": "2020-09-22T15:42:52.061600Z",
     "start_time": "2020-09-22T15:42:52.055403Z"
    }
   },
   "outputs": [
    {
     "data": {
      "text/plain": [
       "array([2, 3, 4])"
      ]
     },
     "execution_count": 44,
     "metadata": {},
     "output_type": "execute_result"
    }
   ],
   "source": [
    "a[2:5]"
   ]
  },
  {
   "cell_type": "code",
   "execution_count": 45,
   "metadata": {
    "ExecuteTime": {
     "end_time": "2020-09-22T15:42:52.067935Z",
     "start_time": "2020-09-22T15:42:52.063842Z"
    }
   },
   "outputs": [
    {
     "data": {
      "text/plain": [
       "array([3, 5, 7])"
      ]
     },
     "execution_count": 45,
     "metadata": {},
     "output_type": "execute_result"
    }
   ],
   "source": [
    "a[3:8:2]"
   ]
  },
  {
   "cell_type": "code",
   "execution_count": 46,
   "metadata": {
    "ExecuteTime": {
     "end_time": "2020-09-22T15:42:52.074833Z",
     "start_time": "2020-09-22T15:42:52.070054Z"
    }
   },
   "outputs": [
    {
     "data": {
      "text/plain": [
       "array([[ 0,  1,  2,  3,  4,  5,  6,  7,  8],\n",
       "       [ 9, 10, 11, 12, 13, 14, 15, 16, 17],\n",
       "       [18, 19, 20, 21, 22, 23, 24, 25, 26],\n",
       "       [27, 28, 29, 30, 31, 32, 33, 34, 35],\n",
       "       [36, 37, 38, 39, 40, 41, 42, 43, 44],\n",
       "       [45, 46, 47, 48, 49, 50, 51, 52, 53],\n",
       "       [54, 55, 56, 57, 58, 59, 60, 61, 62],\n",
       "       [63, 64, 65, 66, 67, 68, 69, 70, 71],\n",
       "       [72, 73, 74, 75, 76, 77, 78, 79, 80]])"
      ]
     },
     "execution_count": 46,
     "metadata": {},
     "output_type": "execute_result"
    }
   ],
   "source": [
    "A = np.arange(81).reshape(9, -1)\n",
    "A"
   ]
  },
  {
   "cell_type": "code",
   "execution_count": 47,
   "metadata": {
    "ExecuteTime": {
     "end_time": "2020-09-22T15:42:52.081227Z",
     "start_time": "2020-09-22T15:42:52.077236Z"
    }
   },
   "outputs": [
    {
     "data": {
      "text/plain": [
       "array([[18, 19, 20, 21, 22, 23, 24, 25, 26],\n",
       "       [27, 28, 29, 30, 31, 32, 33, 34, 35]])"
      ]
     },
     "execution_count": 47,
     "metadata": {},
     "output_type": "execute_result"
    }
   ],
   "source": [
    "A[2:4]"
   ]
  },
  {
   "cell_type": "code",
   "execution_count": 48,
   "metadata": {
    "ExecuteTime": {
     "end_time": "2020-09-22T15:42:52.087442Z",
     "start_time": "2020-09-22T15:42:52.083387Z"
    }
   },
   "outputs": [
    {
     "data": {
      "text/plain": [
       "array([[ 2,  3],\n",
       "       [11, 12],\n",
       "       [20, 21],\n",
       "       [29, 30],\n",
       "       [38, 39],\n",
       "       [47, 48],\n",
       "       [56, 57],\n",
       "       [65, 66],\n",
       "       [74, 75]])"
      ]
     },
     "execution_count": 48,
     "metadata": {},
     "output_type": "execute_result"
    }
   ],
   "source": [
    "A[:, 2:4]"
   ]
  },
  {
   "cell_type": "code",
   "execution_count": 49,
   "metadata": {
    "ExecuteTime": {
     "end_time": "2020-09-22T15:42:52.093678Z",
     "start_time": "2020-09-22T15:42:52.089478Z"
    }
   },
   "outputs": [
    {
     "data": {
      "text/plain": [
       "array([[20, 21],\n",
       "       [29, 30]])"
      ]
     },
     "execution_count": 49,
     "metadata": {},
     "output_type": "execute_result"
    }
   ],
   "source": [
    "A[2:4, 2:4]"
   ]
  },
  {
   "cell_type": "code",
   "execution_count": 50,
   "metadata": {
    "ExecuteTime": {
     "end_time": "2020-09-22T15:42:52.099303Z",
     "start_time": "2020-09-22T15:42:52.095614Z"
    }
   },
   "outputs": [
    {
     "data": {
      "text/plain": [
       "array([72, 73, 74, 75, 76, 77, 78, 79, 80])"
      ]
     },
     "execution_count": 50,
     "metadata": {},
     "output_type": "execute_result"
    }
   ],
   "source": [
    "A[-1]"
   ]
  },
  {
   "cell_type": "markdown",
   "metadata": {},
   "source": [
    "* Также может использоваться индексация при помощи списков индексов (по каждой из осей):"
   ]
  },
  {
   "cell_type": "code",
   "execution_count": 51,
   "metadata": {
    "ExecuteTime": {
     "end_time": "2020-09-22T15:42:52.108235Z",
     "start_time": "2020-09-22T15:42:52.101451Z"
    }
   },
   "outputs": [
    {
     "data": {
      "text/plain": [
       "array([[ 0,  1,  2,  3,  4,  5,  6,  7,  8],\n",
       "       [ 9, 10, 11, 12, 13, 14, 15, 16, 17],\n",
       "       [18, 19, 20, 21, 22, 23, 24, 25, 26],\n",
       "       [27, 28, 29, 30, 31, 32, 33, 34, 35],\n",
       "       [36, 37, 38, 39, 40, 41, 42, 43, 44],\n",
       "       [45, 46, 47, 48, 49, 50, 51, 52, 53],\n",
       "       [54, 55, 56, 57, 58, 59, 60, 61, 62],\n",
       "       [63, 64, 65, 66, 67, 68, 69, 70, 71],\n",
       "       [72, 73, 74, 75, 76, 77, 78, 79, 80]])"
      ]
     },
     "execution_count": 51,
     "metadata": {},
     "output_type": "execute_result"
    }
   ],
   "source": [
    "A = np.arange(81).reshape(9, -1)\n",
    "A"
   ]
  },
  {
   "cell_type": "code",
   "execution_count": 52,
   "metadata": {
    "ExecuteTime": {
     "end_time": "2020-09-22T15:42:52.116476Z",
     "start_time": "2020-09-22T15:42:52.110224Z"
    }
   },
   "outputs": [
    {
     "data": {
      "text/plain": [
       "array([18, 37, 48])"
      ]
     },
     "execution_count": 52,
     "metadata": {},
     "output_type": "execute_result"
    }
   ],
   "source": [
    "A[[2, 4, 5], [0, 1, 3]]"
   ]
  },
  {
   "cell_type": "markdown",
   "metadata": {},
   "source": [
    "* Может применяться логическая индексация (при помощи логических массивов):"
   ]
  },
  {
   "cell_type": "code",
   "execution_count": 53,
   "metadata": {
    "ExecuteTime": {
     "end_time": "2020-09-22T15:42:52.121334Z",
     "start_time": "2020-09-22T15:42:52.117919Z"
    }
   },
   "outputs": [
    {
     "data": {
      "text/plain": [
       "array([ 0,  1,  2,  3,  4,  5,  6,  7,  8,  9, 10])"
      ]
     },
     "execution_count": 53,
     "metadata": {},
     "output_type": "execute_result"
    }
   ],
   "source": [
    "A = np.arange(11)\n",
    "A"
   ]
  },
  {
   "cell_type": "code",
   "execution_count": 54,
   "metadata": {
    "ExecuteTime": {
     "end_time": "2020-09-22T15:42:52.127505Z",
     "start_time": "2020-09-22T15:42:52.123314Z"
    }
   },
   "outputs": [
    {
     "data": {
      "text/plain": [
       "array([ 0,  1,  2,  4,  5,  6,  7,  9, 10])"
      ]
     },
     "execution_count": 54,
     "metadata": {},
     "output_type": "execute_result"
    }
   ],
   "source": [
    "A[A % 5 != 3]"
   ]
  },
  {
   "cell_type": "code",
   "execution_count": 55,
   "metadata": {
    "ExecuteTime": {
     "end_time": "2020-09-22T15:42:52.134183Z",
     "start_time": "2020-09-22T15:42:52.129853Z"
    }
   },
   "outputs": [
    {
     "data": {
      "text/plain": [
       "array([ 0,  1,  2,  4,  5,  6,  9, 10])"
      ]
     },
     "execution_count": 55,
     "metadata": {},
     "output_type": "execute_result"
    }
   ],
   "source": [
    "A[np.logical_and(A != 7, A % 5 != 3)] # также можно использовать логические операции"
   ]
  },
  {
   "cell_type": "markdown",
   "metadata": {},
   "source": [
    "#### Зачем?\n",
    "\n",
    "Зачем необходимо использовать NumPy, если существуют стандартные списки/кортежи и циклы?\n",
    "\n",
    "Причина заключается в скорости работы. Попробуем посчитать скалярное произведение 2 больших векторов:"
   ]
  },
  {
   "cell_type": "code",
   "execution_count": 4,
   "metadata": {
    "ExecuteTime": {
     "end_time": "2020-09-22T15:42:53.481301Z",
     "start_time": "2020-09-22T15:42:52.136072Z"
    }
   },
   "outputs": [],
   "source": [
    "SIZE = 10000000\n",
    "\n",
    "A_quick_arr = np.random.normal(size = (SIZE,))\n",
    "B_quick_arr = np.random.normal(size = (SIZE,))\n",
    "\n",
    "A_slow_list, B_slow_list = list(A_quick_arr), list(B_quick_arr)"
   ]
  },
  {
   "cell_type": "code",
   "execution_count": 5,
   "metadata": {
    "ExecuteTime": {
     "end_time": "2020-09-22T15:42:56.303195Z",
     "start_time": "2020-09-22T15:42:53.483058Z"
    }
   },
   "outputs": [
    {
     "name": "stdout",
     "output_type": "stream",
     "text": [
      "CPU times: user 1.46 s, sys: 0 ns, total: 1.46 s\n",
      "Wall time: 1.46 s\n"
     ]
    }
   ],
   "source": [
    "%%time\n",
    "ans = 0\n",
    "for i in range(len(A_slow_list)):\n",
    "    ans += A_slow_list[i] * B_slow_list[i]"
   ]
  },
  {
   "cell_type": "code",
   "execution_count": 6,
   "metadata": {
    "ExecuteTime": {
     "end_time": "2020-09-22T15:42:58.772193Z",
     "start_time": "2020-09-22T15:42:56.304960Z"
    }
   },
   "outputs": [
    {
     "name": "stdout",
     "output_type": "stream",
     "text": [
      "CPU times: user 1.03 s, sys: 66.9 ms, total: 1.1 s\n",
      "Wall time: 1.1 s\n"
     ]
    }
   ],
   "source": [
    "%%time\n",
    "ans = sum([A_slow_list[i] * B_slow_list[i] for i in range(SIZE)])"
   ]
  },
  {
   "cell_type": "code",
   "execution_count": 9,
   "metadata": {
    "ExecuteTime": {
     "end_time": "2020-09-22T15:42:58.804583Z",
     "start_time": "2020-09-22T15:42:58.773657Z"
    }
   },
   "outputs": [
    {
     "name": "stdout",
     "output_type": "stream",
     "text": [
      "CPU times: user 20.3 ms, sys: 12.3 ms, total: 32.6 ms\n",
      "Wall time: 31.4 ms\n"
     ]
    }
   ],
   "source": [
    "%%time\n",
    "ans = np.sum(A_quick_arr * B_quick_arr)"
   ]
  },
  {
   "cell_type": "code",
   "execution_count": 10,
   "metadata": {
    "ExecuteTime": {
     "end_time": "2020-09-22T15:42:58.818620Z",
     "start_time": "2020-09-22T15:42:58.807193Z"
    }
   },
   "outputs": [
    {
     "name": "stdout",
     "output_type": "stream",
     "text": [
      "CPU times: user 14.3 ms, sys: 16.3 ms, total: 30.6 ms\n",
      "Wall time: 4.28 ms\n"
     ]
    }
   ],
   "source": [
    "%%time\n",
    "ans = A_quick_arr.dot(B_quick_arr)"
   ]
  },
  {
   "cell_type": "markdown",
   "metadata": {},
   "source": [
    "NumPy работает быстро по нескольким причинам:\n",
    "* Массивы хранятся в непрерывном участке памяти, а все элементы имеют один и тот же тип\n",
    "* Для вычислений по возможности используются библиотеки линейной алгебры вроде BLAS  (Basic Linear Algebra Subprograms): Это библиотека, предоставляющая базовые операции линейной алгебры (например, умножение матриц)\n",
    "\n",
    "Посмотреть, какая библиотека используется у вас, можно в конфигурации NumPy:"
   ]
  },
  {
   "cell_type": "code",
   "execution_count": 11,
   "metadata": {
    "ExecuteTime": {
     "end_time": "2020-09-22T15:42:58.983297Z",
     "start_time": "2020-09-22T15:42:58.820808Z"
    },
    "scrolled": true
   },
   "outputs": [
    {
     "name": "stdout",
     "output_type": "stream",
     "text": [
      "Build Dependencies:\n",
      "  blas:\n",
      "    detection method: pkgconfig\n",
      "    found: true\n",
      "    include directory: /home/nadine/.config/jupyterlab-desktop/jlab_server/include\n",
      "    lib directory: /home/nadine/.config/jupyterlab-desktop/jlab_server/lib\n",
      "    name: blas\n",
      "    openblas configuration: unknown\n",
      "    pc file directory: /home/nadine/.config/jupyterlab-desktop/jlab_server/lib/pkgconfig\n",
      "    version: 3.9.0\n",
      "  lapack:\n",
      "    detection method: internal\n",
      "    found: true\n",
      "    include directory: unknown\n",
      "    lib directory: unknown\n",
      "    name: dep140023363602336\n",
      "    openblas configuration: unknown\n",
      "    pc file directory: unknown\n",
      "    version: 1.26.4\n",
      "Compilers:\n",
      "  c:\n",
      "    args: -march=nocona, -mtune=haswell, -ftree-vectorize, -fPIC, -fstack-protector-strong,\n",
      "      -fno-plt, -O2, -ffunction-sections, -pipe, -isystem, /home/nadine/.config/jupyterlab-desktop/jlab_server/include,\n",
      "      -fdebug-prefix-map=/home/conda/feedstock_root/build_artifacts/numpy_1707225359967/work=/usr/local/src/conda/numpy-1.26.4,\n",
      "      -fdebug-prefix-map=/home/nadine/.config/jupyterlab-desktop/jlab_server=/usr/local/src/conda-prefix,\n",
      "      -DNDEBUG, -D_FORTIFY_SOURCE=2, -O2, -isystem, /home/nadine/.config/jupyterlab-desktop/jlab_server/include\n",
      "    commands: /home/conda/feedstock_root/build_artifacts/numpy_1707225359967/_build_env/bin/x86_64-conda-linux-gnu-cc\n",
      "    linker: ld.bfd\n",
      "    linker args: -Wl,-O2, -Wl,--sort-common, -Wl,--as-needed, -Wl,-z,relro, -Wl,-z,now,\n",
      "      -Wl,--disable-new-dtags, -Wl,--gc-sections, -Wl,--allow-shlib-undefined, -Wl,-rpath,/home/nadine/.config/jupyterlab-desktop/jlab_server/lib,\n",
      "      -Wl,-rpath-link,/home/nadine/.config/jupyterlab-desktop/jlab_server/lib, -L/home/nadine/.config/jupyterlab-desktop/jlab_server/lib,\n",
      "      -march=nocona, -mtune=haswell, -ftree-vectorize, -fPIC, -fstack-protector-strong,\n",
      "      -fno-plt, -O2, -ffunction-sections, -pipe, -isystem, /home/nadine/.config/jupyterlab-desktop/jlab_server/include,\n",
      "      -fdebug-prefix-map=/home/conda/feedstock_root/build_artifacts/numpy_1707225359967/work=/usr/local/src/conda/numpy-1.26.4,\n",
      "      -fdebug-prefix-map=/home/nadine/.config/jupyterlab-desktop/jlab_server=/usr/local/src/conda-prefix,\n",
      "      -DNDEBUG, -D_FORTIFY_SOURCE=2, -O2, -isystem, /home/nadine/.config/jupyterlab-desktop/jlab_server/include\n",
      "    name: gcc\n",
      "    version: 12.3.0\n",
      "  c++:\n",
      "    args: -fvisibility-inlines-hidden, -fmessage-length=0, -march=nocona, -mtune=haswell,\n",
      "      -ftree-vectorize, -fPIC, -fstack-protector-strong, -fno-plt, -O2, -ffunction-sections,\n",
      "      -pipe, -isystem, /home/nadine/.config/jupyterlab-desktop/jlab_server/include,\n",
      "      -fdebug-prefix-map=/home/conda/feedstock_root/build_artifacts/numpy_1707225359967/work=/usr/local/src/conda/numpy-1.26.4,\n",
      "      -fdebug-prefix-map=/home/nadine/.config/jupyterlab-desktop/jlab_server=/usr/local/src/conda-prefix,\n",
      "      -DNDEBUG, -D_FORTIFY_SOURCE=2, -O2, -isystem, /home/nadine/.config/jupyterlab-desktop/jlab_server/include\n",
      "    commands: /home/conda/feedstock_root/build_artifacts/numpy_1707225359967/_build_env/bin/x86_64-conda-linux-gnu-c++\n",
      "    linker: ld.bfd\n",
      "    linker args: -Wl,-O2, -Wl,--sort-common, -Wl,--as-needed, -Wl,-z,relro, -Wl,-z,now,\n",
      "      -Wl,--disable-new-dtags, -Wl,--gc-sections, -Wl,--allow-shlib-undefined, -Wl,-rpath,/home/nadine/.config/jupyterlab-desktop/jlab_server/lib,\n",
      "      -Wl,-rpath-link,/home/nadine/.config/jupyterlab-desktop/jlab_server/lib, -L/home/nadine/.config/jupyterlab-desktop/jlab_server/lib,\n",
      "      -fvisibility-inlines-hidden, -fmessage-length=0, -march=nocona, -mtune=haswell,\n",
      "      -ftree-vectorize, -fPIC, -fstack-protector-strong, -fno-plt, -O2, -ffunction-sections,\n",
      "      -pipe, -isystem, /home/nadine/.config/jupyterlab-desktop/jlab_server/include,\n",
      "      -fdebug-prefix-map=/home/conda/feedstock_root/build_artifacts/numpy_1707225359967/work=/usr/local/src/conda/numpy-1.26.4,\n",
      "      -fdebug-prefix-map=/home/nadine/.config/jupyterlab-desktop/jlab_server=/usr/local/src/conda-prefix,\n",
      "      -DNDEBUG, -D_FORTIFY_SOURCE=2, -O2, -isystem, /home/nadine/.config/jupyterlab-desktop/jlab_server/include\n",
      "    name: gcc\n",
      "    version: 12.3.0\n",
      "  cython:\n",
      "    commands: cython\n",
      "    linker: cython\n",
      "    name: cython\n",
      "    version: 3.0.8\n",
      "Machine Information:\n",
      "  build:\n",
      "    cpu: x86_64\n",
      "    endian: little\n",
      "    family: x86_64\n",
      "    system: linux\n",
      "  host:\n",
      "    cpu: x86_64\n",
      "    endian: little\n",
      "    family: x86_64\n",
      "    system: linux\n",
      "Python Information:\n",
      "  path: /home/nadine/.config/jupyterlab-desktop/jlab_server/bin/python\n",
      "  version: '3.12'\n",
      "SIMD Extensions:\n",
      "  baseline:\n",
      "  - SSE\n",
      "  - SSE2\n",
      "  - SSE3\n",
      "  found:\n",
      "  - SSSE3\n",
      "  - SSE41\n",
      "  - POPCNT\n",
      "  - SSE42\n",
      "  - AVX\n",
      "  - F16C\n",
      "  - FMA3\n",
      "  - AVX2\n",
      "  - AVX512F\n",
      "  - AVX512CD\n",
      "  - AVX512_SKX\n",
      "  - AVX512_CLX\n",
      "  - AVX512_CNL\n",
      "  - AVX512_ICL\n",
      "  not found:\n",
      "  - AVX512_KNL\n",
      "  - AVX512_KNM\n",
      "  - AVX512_SPR\n",
      "\n",
      "None\n"
     ]
    }
   ],
   "source": [
    "print(np.show_config())"
   ]
  },
  {
   "cell_type": "markdown",
   "metadata": {},
   "source": [
    "### Примеры векторизации вычислений на NumPy\n"
   ]
  },
  {
   "cell_type": "markdown",
   "metadata": {},
   "source": [
    "Разберём несколько задач (из [100 numpy exercises](http://www.labri.fr/perso/nrougier/teaching/numpy.100/)), где NumPy может существенно ускорить вычисления и упростить код."
   ]
  },
  {
   "cell_type": "markdown",
   "metadata": {},
   "source": [
    "##### Дан четырёхмерный массив. Как получить двумерный массив, в котором элемент с индексами $(i, j)$ содержит сумму всех элементов исходного массива, у которых первые два индекса — это $(i, j)$?"
   ]
  },
  {
   "cell_type": "code",
   "execution_count": 56,
   "metadata": {
    "ExecuteTime": {
     "end_time": "2020-09-22T15:42:58.988860Z",
     "start_time": "2020-09-22T15:42:58.985170Z"
    }
   },
   "outputs": [
    {
     "name": "stdout",
     "output_type": "stream",
     "text": [
      "[[258340 251179 238200 252220 246860]\n",
      " [243073 245739 251546 249450 246257]]\n"
     ]
    }
   ],
   "source": [
    "A = np.random.randint(0,1000,(2,5,20,25))\n",
    "res = A.reshape(A.shape[:-2] + (-1,)).sum(axis=-1)\n",
    "print(res)"
   ]
  },
  {
   "cell_type": "markdown",
   "metadata": {},
   "source": [
    "Создаем четырёхмерный массив A размером (2, 5, 20, 25), где:\n",
    "\n",
    "Размерность 0 (индексы от 0 до 1) — это 2.\n",
    "Размерность 1 (индексы от 0 до 4) — это 5.\n",
    "Размерность 2 (индексы от 0 до 19) — это 20.\n",
    "Размерность 3 (индексы от 0 до 24) — это 25.\n",
    "\n"
   ]
  },
  {
   "cell_type": "markdown",
   "metadata": {},
   "source": [
    "Задача, которую вы описываете, сводится к агрегации значений из четырёхмерного массива с суммированием по определённой оси, чтобы получить двумерный массив.\n",
    "\n",
    "Давайте разберём, что происходит в данном коде:\n",
    "\n",
    "### Исходный массив:\n",
    "```python\n",
    "A = np.random.randint(0, 1000, (2, 5, 20, 25))\n",
    "```\n",
    "Это создаёт четырёхмерный массив **A** размером (2, 5, 20, 25), где:\n",
    "- Размерность 0 (индексы от 0 до 1) — это 2.\n",
    "- Размерность 1 (индексы от 0 до 4) — это 5.\n",
    "- Размерность 2 (индексы от 0 до 19) — это 20.\n",
    "- Размерность 3 (индексы от 0 до 24) — это 25.\n",
    "\n",
    "### Основная цель:\n",
    "Нам нужно получить двумерный массив, где каждый элемент на позиции \\([i, j]\\) будет содержать сумму всех элементов исходного массива, для которых первые два индекса равны \\(i\\) и \\(j\\) соответственно. То есть, нужно суммировать все элементы с фиксированными первыми двумя индексами (i и j) и объединить их в двумерный массив.\n",
    "\n",
    "\n",
    "1. **решейпим массив**:\n",
    "   ```python\n",
    "   A.reshape(A.shape[:-2] + (-1,))\n",
    "   ```\n",
    "   - `A.shape` — это `(2, 5, 20, 25)`.\n",
    "   - `A.shape[:-2]` — это `(2, 5)`, что означает сохранение первых двух измерений.\n",
    "   - `(-1,)` — это механизм, позволяющий \"сжать\" оставшиеся два измерения (20 и 25) в одно. Таким образом, итоговая форма после reshape будет `(2, 5, 500)`, где 500 — это произведение 20 и 25 (после сжатия размерности).\n",
    "\n",
    "   Таким образом, `A.reshape(A.shape[:-2] + (-1,))` преобразует четырёхмерный массив в трёхмерный, где последние два измерения объединены в одно. Это даёт структуру `(2, 5, 500)`.\n",
    "\n",
    "2. **суммируем по последней оси**:\n",
    "   ```python\n",
    "   .sum(axis=-1)\n",
    "   ```\n",
    "   После изменения формы массива мы вызываем метод `.sum(axis=-1)`. Это означает, что суммирование происходит по последней оси, то есть по 500-ти значным векторами, которые получились после reshape.\n",
    "\n",
    "   Таким образом, для каждого элемента с индексами \\([i, j]\\) мы суммируем все элементы в третьей оси (размерность 500), то есть все элементы с фиксированными индексами \\(i\\) и \\(j\\) по последним двум осям исходного массива.\n",
    "\n",
    "   В результате мы получаем двумерный массив размера `(2, 5)`, где каждый элемент на позиции \\([i, j]\\) — это сумма всех элементов из исходного массива с фиксированными первыми двумя индексами \\(i\\) и \\(j\\).\n",
    "\n",
    "В выводе получаем двумерный массив с размерами `(2, 5)`, содержащий суммы всех элементов исходного массива для каждого сочетания первых двух индексов.\n",
    "\n",
    "Таким образом, для массива размером `(2, 5, 20, 25)` после выполнения кода результат будет двумерным массивом, где:\n",
    "- Строки будут соответствовать значениям из первой и второй размерности массива.\n",
    "- Столбцы будут соответствовать второй и третьей размерности массива.\n",
    "- Элементы этого массива — это суммы всех элементов исходного четырёхмерного массива с заданными первыми двумя индексами.\n"
   ]
  },
  {
   "cell_type": "code",
   "execution_count": null,
   "metadata": {},
   "outputs": [],
   "source": []
  },
  {
   "cell_type": "markdown",
   "metadata": {},
   "source": [
    "##### Даны одномерные массивы A и B. Элементы массива B принимают значения от 0 до `len(A) - 1`. Требуется прибавить единицу ко всем элементам A, чьи индексы записаны в B. Если индекс встречается в B несколько раз, то надо прибавить единицу для каждого такого вхождения."
   ]
  },
  {
   "cell_type": "code",
   "execution_count": 14,
   "metadata": {
    "ExecuteTime": {
     "end_time": "2020-09-22T15:42:59.001625Z",
     "start_time": "2020-09-22T15:42:58.990334Z"
    }
   },
   "outputs": [
    {
     "name": "stdout",
     "output_type": "stream",
     "text": [
      "[1. 1. 1. 1. 1. 1. 1. 1. 1. 1.]\n",
      "[9 7 0 5 7 5 6 3 6 0 9 5 8 0 1 2 9 9 1 5]\n",
      "[3 2 1 1 0 4 2 2 1 4]\n",
      "[4. 3. 2. 2. 1. 5. 3. 3. 2. 5.]\n"
     ]
    }
   ],
   "source": [
    "A = np.ones(10)\n",
    "B = np.random.randint(0,len(A),20)\n",
    "print(A)\n",
    "print(B)\n",
    "print(np.bincount(B, minlength=len(A)))\n",
    "A += np.bincount(B, minlength=len(A))\n",
    "print(A)"
   ]
  },
  {
   "cell_type": "markdown",
   "metadata": {},
   "source": [
    "Используем функцию np.bincount для подсчёта вхождений индексов: \n",
    "\n",
    "   Функция `np.bincount` подсчитывает количество вхождений каждого числа в массиве `B` и возвращает массив, в котором на позиции `i` находится количество вхождений индекса `i` в массив `B`. Параметр `minlength` задаёт минимальную длину результата (в данном случае равную длине массива `A`).\n",
    "\n",
    "   Например, для массива `B`:\n",
    "   ```python\n",
    "   B = [0, 3, 7, 2, 4, 5, 0, 0, 3, 9, 7, 6, 2, 8, 9, 2, 4, 6, 1, 0]\n",
    "   ```\n",
    "   функция `np.bincount(B, minlength=len(A))` создаст массив, где на каждом индексе будет подсчитано количество вхождений этого индекса в `B`. Например, для `B` массив будет выглядеть так:\n",
    "   ```python\n",
    "   [4, 1, 3, 2, 2, 1, 2, 2, 1, 2]\n",
    "   ```\n",
    "   Это означает, что индекс 0 встречается 4 раза, индекс 1 — 1 раз, индекс 2 — 3 раза, индекс 3 — 2 раза и так далее.\n",
    "\n",
    "**Прибавление подсчитанных значений к массиву `A`**:\n",
    "   После подсчёта вхождений каждого индекса с помощью `np.bincount`, мы прибавляем полученный массив к массиву `A`. Это приводит к тому, что каждый элемент массива `A` увеличивается на количество раз, которое этот индекс встречается в массиве `B`.\n",
    "\n",
    "Этот код позволяет эффективно обновить значения в массиве `A` на основе повторений индексов, которые содержатся в массиве `B`, используя функцию `np.bincount` для подсчёта вхождений."
   ]
  },
  {
   "cell_type": "markdown",
   "metadata": {},
   "source": [
    "##### Даны одномерный массив A и число n. Вычислите массив B, в котором i-й элемент равен среднему значению элементов с i-го по (i+n-1)-й в массиве A."
   ]
  },
  {
   "cell_type": "code",
   "execution_count": 58,
   "metadata": {
    "ExecuteTime": {
     "end_time": "2020-09-22T15:42:59.009414Z",
     "start_time": "2020-09-22T15:42:59.004125Z"
    }
   },
   "outputs": [
    {
     "name": "stdout",
     "output_type": "stream",
     "text": [
      "[6 5 7 6 6 1 7 8 1 1 8 7 8 8 1 5 2 9 2 4]\n",
      "[6.         6.         6.33333333 4.33333333 4.66666667 5.33333333\n",
      " 5.33333333 3.33333333 3.33333333 5.33333333 7.66666667 7.66666667\n",
      " 5.66666667 4.66666667 2.66666667 5.33333333 4.33333333 5.        ]\n"
     ]
    }
   ],
   "source": [
    "def moving_average(Z, n=3) :\n",
    "    ret = np.cumsum(Z, dtype=float)\n",
    "    ret[n:] = ret[n:] - ret[:-n]\n",
    "    return ret[n - 1:] / n\n",
    "A = np.random.randint(0, 10, 20)\n",
    "print(A)\n",
    "print(moving_average(A, n=3))"
   ]
  },
  {
   "cell_type": "markdown",
   "metadata": {},
   "source": [
    "Входной массив:\n",
    "\n",
    "```\n",
    "A = [6, 5, 7, 6, 6, 1, 7, 8, 1, 1, 8, 7, 8, 8, 1, 5, 2, 9, 2, 4]\n",
    "```\n",
    "\n",
    "Функция `moving_average(A, n=3)`:\n",
    "\n",
    "Эта функция вычисляет скользящее среднее для массива `A` с окном шириной `n=3`. Таким образом, для каждого элемента `i` в результирующем массиве будет вычисляться среднее значение трех элементов массива `A`, начиная с индекса `i`.\n",
    "\n",
    " 1. Накопленная сумма (`np.cumsum(A)`):\n",
    "\n",
    "Первым шагом в функции идет вычисление накопленной суммы элементов массива `A`:\n",
    "\n",
    "```python\n",
    "ret = np.cumsum(A)\n",
    "```\n",
    "\n",
    "Результат накопленной суммы:\n",
    "\n",
    "```\n",
    "ret = [6, 11, 18, 24, 30, 31, 38, 46, 47, 48, 56, 63, 71, 79, 80, 85, 87, 96, 98, 102]\n",
    "```\n",
    "\n",
    " 2. Вычитание старых значений из новых:\n",
    "\n",
    "Затем, чтобы получить суммы элементов с i-го по (i+n-1)-й, мы выполняем операцию вычитания:\n",
    "\n",
    "```python\n",
    "ret[n:] = ret[n:] - ret[:-n]\n",
    "```\n",
    "\n",
    "Для `n=3`, вычитание будет выглядеть так:\n",
    "\n",
    "```\n",
    "ret[3:] = ret[3:] - ret[:-3]\n",
    "```\n",
    "\n",
    "Результат:\n",
    "\n",
    "```\n",
    "ret = [6, 11, 18, 18, 24, 30, 38, 46, 47, 48, 56, 63, 71, 79, 80, 85, 87, 96, 98, 102]\n",
    "```\n",
    "\n",
    "Теперь у нас есть массив, где каждый элемент (начиная с индекса 3) представляет собой сумму трех последовательных элементов из массива `A`.\n",
    "\n",
    " 3. Разделение на `n`:\n",
    "\n",
    "Наконец, для получения скользящего среднего, мы делим каждый элемент накопленной суммы на `n=3`:\n",
    "\n",
    "```python\n",
    "ret[n - 1:] / n\n",
    "```\n",
    "\n",
    "Результат:\n",
    "\n",
    "```\n",
    "[6.0, 6.0, 6.33333333, 4.33333333, 4.66666667, 5.33333333, 5.33333333, 3.33333333, 3.33333333, 5.33333333, 7.66666667, 7.66666667, 5.66666667, 4.66666667, 2.66666667, 5.33333333, 4.33333333, 5.0]\n",
    "```\n",
    "\n",
    "Это и есть результат выполнения функции — массив, в котором каждый элемент равен среднему значению трех последовательных элементов массива `A`.\n",
    "\n",
    " Подробное объяснение вывода:\n",
    "\n",
    "- Первый элемент результата равен `6.0`, потому что первые три элемента массива `A` — это `[6, 5, 7]`, и их среднее значение равно `(6 + 5 + 7) / 3 = 6.0`.\n",
    "- Второй элемент тоже равен `6.0`, потому что сумма элементов на индексах 1, 2 и 3 в `A` — это `[5, 7, 6]`, среднее равно `(5 + 7 + 6) / 3 = 6.0`.\n",
    "- Третий элемент равен `6.33`, потому что сумма элементов на индексах 2, 3 и 4 — это `[7, 6, 6]`, среднее равно `(7 + 6 + 6) / 3 = 6.333`.\n",
    "- И так далее.\n",
    "\n",
    "Этот процесс повторяется для всех элементов массива, начиная с индекса 2, где для каждого индекса мы берем три элемента массива и делаем их среднее.\n"
   ]
  },
  {
   "cell_type": "markdown",
   "metadata": {},
   "source": [
    "### Задания для самостоятельного решения"
   ]
  },
  {
   "cell_type": "markdown",
   "metadata": {},
   "source": [
    "1. Развернуть одномерный массив (сделать так, чтобы его элементы шли в обратном порядке).\n",
    "2. Найти максимальный нечетный элемент в массиве.\n",
    "3. Замените все нечетные элементы массива на ваше любимое число.\n",
    "4. Создайте массив первых n нечетных чисел, записанных в порядке убывания. Например, если `n=5`, то ответом будет `array([9, 7, 5, 3, 1])`. *Функции, которые могут пригодиться при решении: `.arange()`*\n",
    "5. Вычислите самое близкое и самое дальнее числа к данному в рассматриваемом массиве чисел. Например, если на вход поступают массив `array([0, 1, 2, 3, 4])` и число 1.33, то ответом будет `(1, 4)`. _Функции, которые могут пригодиться при решении: `.abs()`, `.argmax()`, `.argmin()`_\n",
    "6. Вычисляющую первообразную заданного полинома (в качестве константы возьмите ваше любимое число). Например, если на вход поступает массив коэффициентов `array([4, 6, 0, 1])`, что соответствует полиному $4x^3 + 6x^2 + 1$, на выходе получается массив коэффициентов `array([1, 2, 0, 1, -2])`, соответствующий полиному $x^4 + 2x^3 + x - 2$. _Функции, которые могут пригодиться при решении: `.append()`_\n",
    "7. Пользуясь пунктом 6, посчитайте первую производную для заданного полинома в заданной точке."
   ]
  },
  {
   "cell_type": "code",
   "execution_count": null,
   "metadata": {},
   "outputs": [],
   "source": []
  }
 ],
 "metadata": {
  "kernelspec": {
   "display_name": "Python 3",
   "language": "python",
   "name": "python3"
  },
  "language_info": {
   "codemirror_mode": {
    "name": "ipython",
    "version": 3
   },
   "file_extension": ".py",
   "mimetype": "text/x-python",
   "name": "python",
   "nbconvert_exporter": "python",
   "pygments_lexer": "ipython3",
   "version": "3.12.3"
  }
 },
 "nbformat": 4,
 "nbformat_minor": 4
}
